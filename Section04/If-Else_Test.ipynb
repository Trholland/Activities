{
 "cells": [
  {
   "cell_type": "code",
   "execution_count": 8,
   "metadata": {},
   "outputs": [],
   "source": [
    "testScore = 40"
   ]
  },
  {
   "cell_type": "code",
   "execution_count": 10,
   "metadata": {},
   "outputs": [
    {
     "name": "stdout",
     "output_type": "stream",
     "text": [
      "B\n"
     ]
    }
   ],
   "source": [
    "if testScore >= 90:\n",
    "    letter = 'A'\n",
    "else:\n",
    "    if testScore >= 80:\n",
    "        letter = 'B'\n",
    "    else:\n",
    "        if testScore >= 70:\n",
    "            letter = 'C'\n",
    "    \n",
    "print(letter)\n"
   ]
  },
  {
   "cell_type": "code",
   "execution_count": 11,
   "metadata": {},
   "outputs": [
    {
     "name": "stdout",
     "output_type": "stream",
     "text": [
      "F\n"
     ]
    }
   ],
   "source": [
    "testScore = 10\n",
    "\n",
    "if testScore >= 90:\n",
    "    print('A')\n",
    "elif testScore >= 80:\n",
    "    print('B')\n",
    "elif testScore >= 70:\n",
    "    print('C')\n",
    "elif testScore >= 60:\n",
    "    print('D')\n",
    "elif testScore < 60:\n",
    "    print('F')"
   ]
  },
  {
   "cell_type": "code",
   "execution_count": 12,
   "metadata": {},
   "outputs": [
    {
     "name": "stdout",
     "output_type": "stream",
     "text": [
      "200 33 500\n"
     ]
    }
   ],
   "source": [
    "a = 200\n",
    "b = 33\n",
    "c = 500\n",
    "\n",
    "if a > b and c > a:\n",
    "    print(a, b, c)"
   ]
  },
  {
   "cell_type": "code",
   "execution_count": 15,
   "metadata": {},
   "outputs": [
    {
     "ename": "SyntaxError",
     "evalue": "expected ':' (1865497830.py, line 1)",
     "output_type": "error",
     "traceback": [
      "\u001b[1;36m  Cell \u001b[1;32mIn[15], line 1\u001b[1;36m\u001b[0m\n\u001b[1;33m    if a > (b + c)\u001b[0m\n\u001b[1;37m                  ^\u001b[0m\n\u001b[1;31mSyntaxError\u001b[0m\u001b[1;31m:\u001b[0m expected ':'\n"
     ]
    }
   ],
   "source": [
    "if a > (b + c)\n",
    "    print('yes')"
   ]
  },
  {
   "cell_type": "code",
   "execution_count": 31,
   "metadata": {},
   "outputs": [
    {
     "name": "stdout",
     "output_type": "stream",
     "text": [
      "Your grade is: F\n"
     ]
    }
   ],
   "source": [
    "score = int(input(\"What is your score?\"))\n",
    "\n",
    "if score > 80:\n",
    "    grade = ('A')\n",
    "elif score >= 60 and score < 80:\n",
    "    grade = ('B')\n",
    "elif score >= 50 and score < 60:\n",
    "    grade = ('C')\n",
    "elif score >= 45 and score < 50:\n",
    "    grade = ('D')\n",
    "elif score >= 25 and score < 45:\n",
    "    grade = ('E')\n",
    "else:\n",
    "    grade = ('F')\n",
    "    \n",
    "print(f'Your grade is: {grade}')"
   ]
  },
  {
   "cell_type": "code",
   "execution_count": 41,
   "metadata": {},
   "outputs": [
    {
     "name": "stdout",
     "output_type": "stream",
     "text": [
      "Oldest: y\n",
      "Youngest: x\n"
     ]
    }
   ],
   "source": [
    "x = 30\n",
    "z = 45\n",
    "y = 70\n",
    "\n",
    "if x > z and x > y:\n",
    "    oldest = ('x')\n",
    "elif z > x and z > y:\n",
    "    oldest = ('z')\n",
    "else:\n",
    "    oldest = ('y')\n",
    "\n",
    "if x < z and x < y:\n",
    "    youngest = ('x')\n",
    "elif z < x and z < y:\n",
    "    youngest = ('z')\n",
    "else:\n",
    "    youngest = ('y')\n",
    "\n",
    "    \n",
    "print(f'Oldest: {oldest}\\nYoungest: {youngest}')\n",
    "\n"
   ]
  },
  {
   "cell_type": "code",
   "execution_count": 45,
   "metadata": {},
   "outputs": [
    {
     "name": "stdout",
     "output_type": "stream",
     "text": [
      "0\n",
      "1\n",
      "2\n",
      "3\n",
      "4\n",
      "5\n",
      "6\n",
      "7\n",
      "8\n",
      "9\n"
     ]
    }
   ],
   "source": [
    "x = 0\n",
    "\n",
    "while x < 10:\n",
    "    print(x)\n",
    "    x = x+1"
   ]
  },
  {
   "cell_type": "code",
   "execution_count": 49,
   "metadata": {},
   "outputs": [
    {
     "name": "stdout",
     "output_type": "stream",
     "text": [
      "1\n",
      "3\n",
      "6\n",
      "10\n",
      "15\n",
      "21\n",
      "28\n"
     ]
    }
   ],
   "source": [
    "numberList = [1, 2, 3, 4, 5, 6, 7]\n",
    "start = 0\n",
    "for numbers in numberList:\n",
    "    start = start + numbers\n",
    "    print(start)"
   ]
  },
  {
   "cell_type": "code",
   "execution_count": 50,
   "metadata": {},
   "outputs": [
    {
     "name": "stdout",
     "output_type": "stream",
     "text": [
      "S\n",
      "a\n",
      "v\n",
      "v\n",
      "y\n",
      "C\n",
      "o\n",
      "d\n",
      "e\n",
      "r\n",
      "s\n"
     ]
    }
   ],
   "source": [
    "numberlist = [1, 2, 3, 4, 5, 6, 7]\n",
    "string = 'SavvyCoders'\n",
    "start = 0\n",
    "\n",
    "for num in string:\n",
    "    print(num)"
   ]
  },
  {
   "cell_type": "code",
   "execution_count": 52,
   "metadata": {},
   "outputs": [
    {
     "name": "stdout",
     "output_type": "stream",
     "text": [
      "70\n"
     ]
    }
   ],
   "source": [
    "agelist = [30, 18, 70]\n",
    "baseAge = 0\n",
    "for value in agelist:\n",
    "    if baseAge < value:\n",
    "        baseAge = value\n",
    "\n",
    "print(baseAge)"
   ]
  },
  {
   "cell_type": "code",
   "execution_count": 54,
   "metadata": {},
   "outputs": [
    {
     "name": "stdout",
     "output_type": "stream",
     "text": [
      "[50, 27, 18]\n"
     ]
    }
   ],
   "source": [
    "rae = 50\n",
    "luna = 27\n",
    "fiore = 18\n",
    "\n",
    "age_list = ([rae, luna, fiore])\n",
    "print(age_list)"
   ]
  },
  {
   "cell_type": "code",
   "execution_count": 55,
   "metadata": {},
   "outputs": [
    {
     "name": "stdout",
     "output_type": "stream",
     "text": [
      "luna 18\n",
      "luna 25\n",
      "luna 30\n",
      "rae 18\n",
      "rae 25\n",
      "rae 30\n",
      "fiore 18\n",
      "fiore 25\n",
      "fiore 30\n"
     ]
    }
   ],
   "source": [
    "x = [\"luna\", \"rae\", \"fiore\"]\n",
    "y = [18, 25, 30]\n",
    "\n",
    "for adj in x:\n",
    "    for z in y:\n",
    "        print(adj,z)"
   ]
  },
  {
   "cell_type": "code",
   "execution_count": 61,
   "metadata": {},
   "outputs": [
    {
     "name": "stdout",
     "output_type": "stream",
     "text": [
      "juicy apple\n",
      "juicy orange\n",
      "juicy pineapple\n"
     ]
    }
   ],
   "source": [
    "adjectives = [\"red\", \"big\", \"juicy\"]\n",
    "fruits = [\"apple\", \"orange\", \"pineapple\"]\n",
    "\n",
    "for adj in adjectives:\n",
    "    for fruit in fruits:\n",
    "        if adj == 'big' or adj == 'red':\n",
    "            break\n",
    "        print(adj,fruit)"
   ]
  },
  {
   "cell_type": "code",
   "execution_count": 66,
   "metadata": {},
   "outputs": [
    {
     "name": "stdout",
     "output_type": "stream",
     "text": [
      "value: 0 char: S\n",
      "value: 1 char: a\n",
      "value: 2 char: v\n",
      "value: 3 char: v\n",
      "value: 4 char: y\n",
      "value: 5 char: C\n",
      "value: 6 char: o\n",
      "value: 7 char: d\n",
      "value: 8 char: e\n",
      "value: 9 char: r\n"
     ]
    }
   ],
   "source": [
    "string = 'SavvyCoders'\n",
    "\n",
    "for value in range(0, 10):\n",
    "    print(f'value: {value} char: {string[value]}')"
   ]
  }
 ],
 "metadata": {
  "kernelspec": {
   "display_name": "Python 3",
   "language": "python",
   "name": "python3"
  },
  "language_info": {
   "codemirror_mode": {
    "name": "ipython",
    "version": 3
   },
   "file_extension": ".py",
   "mimetype": "text/x-python",
   "name": "python",
   "nbconvert_exporter": "python",
   "pygments_lexer": "ipython3",
   "version": "3.12.7"
  }
 },
 "nbformat": 4,
 "nbformat_minor": 2
}
