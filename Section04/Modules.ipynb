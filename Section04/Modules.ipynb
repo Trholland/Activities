{
 "cells": [
  {
   "cell_type": "code",
   "execution_count": null,
   "metadata": {},
   "outputs": [],
   "source": [
    "import datetime as dt\n",
    "x = dt.datetime.now()\n",
    "print(x)"
   ]
  },
  {
   "cell_type": "code",
   "execution_count": null,
   "metadata": {},
   "outputs": [],
   "source": [
    "import math as mm\n",
    "print(mm.pi * mm.pi)"
   ]
  },
  {
   "cell_type": "code",
   "execution_count": null,
   "metadata": {},
   "outputs": [],
   "source": [
    "import random\n",
    "a = random.randrange(0,10)\n",
    "b = random.randrange(0,10)\n",
    "print(f'{a} * {b} = {a*b}')"
   ]
  },
  {
   "cell_type": "code",
   "execution_count": null,
   "metadata": {},
   "outputs": [],
   "source": [
    "characterList = [\"Feixiao\",\n",
    "                 \"Topaz\",\n",
    "                 \"Ruan Mei\",\n",
    "                 \"Lingsha\",\n",
    "                 \"Robin\",\n",
    "                 \"Yunli\",\n",
    "                 \"Firefly\",\n",
    "                 \"Himeko\",\n",
    "                 \"Acheron\",\n",
    "                 \"Huohuo\",\n",
    "                 \"Bronya\",\n",
    "                 \"Sparkle\",\n",
    "                 \"Fu Xuan\",\n",
    "                 \"Seele\",\n",
    "                 \"Silver Wolf\",\n",
    "                 \"Stelle (Destruction)\",\n",
    "                 \"Stelle (Preservation)\",\n",
    "                 \"Stelle ( Harmony)\",\n",
    "                 \"Guinaifen\",\n",
    "                 \"Herta\",\n",
    "                 \"Xueyi\",\n",
    "                 \"Qingque\",\n",
    "                 \"March 7th (Preservation)\",\n",
    "                 \"March 7th (Hunt)\",\n",
    "                 \"Clara\",\n",
    "                 \"Jingliu\",\n",
    "                 \"Hanya\",\n",
    "                 \"Asta\",\n",
    "                 \"Pela\",\n",
    "                 \"Tingyun\",\n",
    "                 \"Lynx\",\n",
    "                 \"Sushang\",\n",
    "                 \"Bailu\",\n",
    "                 \"Natasha\",\n",
    "                 \"Gepard\",\n",
    "                 \"Welt\",\n",
    "                 \"Yukong\",\n",
    "                 \"Luka\",\n",
    "                 \"Hook\",\n",
    "                 \"Serval\",\n",
    "                 \"Arlan\",\n",
    "                 \"Sampo\",\n",
    "                 \"Dan Heng\",\n",
    "                 \"Dr. Ratio\",\n",
    "                 \"Gallagher\",\n",
    "                 \"Misha\",\n",
    "                 \"Yanqing\"]\n",
    "                 \n",
    "print(random.choice(characterList))\n",
    "print(random.choice(characterList))\n",
    "print(random.choice(characterList))\n",
    "print(random.choice(characterList))"
   ]
  },
  {
   "cell_type": "code",
   "execution_count": 17,
   "metadata": {},
   "outputs": [
    {
     "name": "stdout",
     "output_type": "stream",
     "text": [
      "Yanqing\n"
     ]
    }
   ],
   "source": [
    "characterList = [\"Feixiao\",\n",
    "                 \"Topaz\",\n",
    "                 \"Ruan Mei\",\n",
    "                 \"Lingsha\",\n",
    "                 \"Robin\",\n",
    "                 \"Yunli\",\n",
    "                 \"Firefly\",\n",
    "                 \"Himeko\",\n",
    "                 \"Acheron\",\n",
    "                 \"Huohuo\",\n",
    "                 \"Bronya\",\n",
    "                 \"Sparkle\",\n",
    "                 \"Fu Xuan\",\n",
    "                 \"Seele\",\n",
    "                 \"Silver Wolf\",\n",
    "                 \"Stelle (Destruction)\",\n",
    "                 \"Stelle (Preservation)\",\n",
    "                 \"Stelle ( Harmony)\",\n",
    "                 \"Guinaifen\",\n",
    "                 \"Herta\",\n",
    "                 \"Xueyi\",\n",
    "                 \"Qingque\",\n",
    "                 \"March 7th (Preservation)\",\n",
    "                 \"March 7th (Hunt)\",\n",
    "                 \"Clara\",\n",
    "                 \"Jingliu\",\n",
    "                 \"Hanya\",\n",
    "                 \"Asta\",\n",
    "                 \"Pela\",\n",
    "                 \"Tingyun\",\n",
    "                 \"Lynx\",\n",
    "                 \"Sushang\",\n",
    "                 \"Bailu\",\n",
    "                 \"Natasha\",\n",
    "                 \"Gepard\",\n",
    "                 \"Welt\",\n",
    "                 \"Yukong\",\n",
    "                 \"Luka\",\n",
    "                 \"Hook\",\n",
    "                 \"Serval\",\n",
    "                 \"Arlan\",\n",
    "                 \"Sampo\",\n",
    "                 \"Dan Heng\",\n",
    "                 \"Dr. Ratio\",\n",
    "                 \"Gallagher\",\n",
    "                 \"Misha\",\n",
    "                 \"Yanqing\"]\n",
    "\n",
    "def random_team():\n",
    "    print(random.choice(characterList))\n",
    "\n",
    "random_team()"
   ]
  },
  {
   "cell_type": "code",
   "execution_count": null,
   "metadata": {},
   "outputs": [],
   "source": [
    "def test(name, element):\n",
    "    print(\"name: \", name)\n",
    "    print(\"element: \", element)\n",
    "\n",
    "test(\"Qingque\", \"Quantum\")"
   ]
  },
  {
   "cell_type": "code",
   "execution_count": null,
   "metadata": {},
   "outputs": [],
   "source": [
    "print(random.choice(characterList[0:-1]), random.choice(characterList[0:-1]), random.choice(characterList[0:-1]), random.choice(characterList[0:-1]))"
   ]
  },
  {
   "cell_type": "code",
   "execution_count": null,
   "metadata": {},
   "outputs": [],
   "source": [
    "def random_team():\n",
    "    characterList = [\"Feixiao\",\n",
    "                 \"Topaz\",\n",
    "                 \"Ruan Mei\",\n",
    "                 \"Lingsha\",\n",
    "                 \"Robin\",\n",
    "                 \"Yunli\",\n",
    "                 \"Firefly\",\n",
    "                 \"Himeko\",\n",
    "                 \"Acheron\",\n",
    "                 \"Huohuo\",\n",
    "                 \"Bronya\",\n",
    "                 \"Sparkle\",\n",
    "                 \"Fu Xuan\",\n",
    "                 \"Seele\",\n",
    "                 \"Silver Wolf\",\n",
    "                 \"Stelle (Destruction)\",\n",
    "                 \"Stelle (Preservation)\",\n",
    "                 \"Stelle ( Harmony)\",\n",
    "                 \"Guinaifen\",\n",
    "                 \"Herta\",\n",
    "                 \"Xueyi\",\n",
    "                 \"Qingque\",\n",
    "                 \"March 7th (Preservation)\",\n",
    "                 \"March 7th (Hunt)\",\n",
    "                 \"Clara\",\n",
    "                 \"Jingliu\",\n",
    "                 \"Hanya\",\n",
    "                 \"Asta\",\n",
    "                 \"Pela\",\n",
    "                 \"Tingyun\",\n",
    "                 \"Lynx\",\n",
    "                 \"Sushang\",\n",
    "                 \"Bailu\",\n",
    "                 \"Natasha\",\n",
    "                 \"Gepard\",\n",
    "                 \"Welt\",\n",
    "                 \"Yukong\",\n",
    "                 \"Luka\",\n",
    "                 \"Hook\",\n",
    "                 \"Serval\",\n",
    "                 \"Arlan\",\n",
    "                 \"Sampo\",\n",
    "                 \"Dan Heng\",\n",
    "                 \"Dr. Ratio\",\n",
    "                 \"Gallagher\",\n",
    "                 \"Misha\",\n",
    "                 \"Yanqing\"]\n",
    "    print(f'Your team is: {random.choice(characterList[0:-1])}, {random.choice(characterList[0:-1])}, {random.choice(characterList[0:-1])}, and {random.choice(characterList[0:-1])}')\n",
    "\n",
    "random_team"
   ]
  },
  {
   "cell_type": "code",
   "execution_count": 31,
   "metadata": {},
   "outputs": [
    {
     "name": "stdout",
     "output_type": "stream",
     "text": [
      "Team: Gepard, Arlan, Fu Xuan, Lynx\n"
     ]
    }
   ],
   "source": [
    "import random\n",
    "characterList = [\"Feixiao\",\n",
    "                 \"Topaz\",\n",
    "                 \"Ruan Mei\",\n",
    "                 \"Lingsha\",\n",
    "                 \"Robin\",\n",
    "                 \"Yunli\",\n",
    "                 \"Firefly\",\n",
    "                 \"Himeko\",\n",
    "                 \"Acheron\",\n",
    "                 \"Huohuo\",\n",
    "                 \"Bronya\",\n",
    "                 \"Sparkle\",\n",
    "                 \"Fu Xuan\",\n",
    "                 \"Seele\",\n",
    "                 \"Silver Wolf\",\n",
    "                 \"Stelle (Destruction)\",\n",
    "                 \"Stelle (Preservation)\",\n",
    "                 \"Stelle ( Harmony)\",\n",
    "                 \"Guinaifen\",\n",
    "                 \"Herta\",\n",
    "                 \"Xueyi\",\n",
    "                 \"Qingque\",\n",
    "                 \"March 7th (Preservation)\",\n",
    "                 \"March 7th (Hunt)\",\n",
    "                 \"Clara\",\n",
    "                 \"Jingliu\",\n",
    "                 \"Hanya\",\n",
    "                 \"Asta\",\n",
    "                 \"Pela\",\n",
    "                 \"Tingyun\",\n",
    "                 \"Lynx\",\n",
    "                 \"Sushang\",\n",
    "                 \"Bailu\",\n",
    "                 \"Natasha\",\n",
    "                 \"Gepard\",\n",
    "                 \"Welt\",\n",
    "                 \"Yukong\",\n",
    "                 \"Luka\",\n",
    "                 \"Hook\",\n",
    "                 \"Serval\",\n",
    "                 \"Arlan\",\n",
    "                 \"Sampo\",\n",
    "                 \"Dan Heng\",\n",
    "                 \"Dr. Ratio\",\n",
    "                 \"Gallagher\",\n",
    "                 \"Misha\",\n",
    "                 \"Yanqing\"]\n",
    "\n",
    "def randomTeam():\n",
    "    print(f'Team: {random.choice(characterList)}, {random.choice(characterList)}, {random.choice(characterList)}, {random.choice(characterList)}')\n",
    "\n",
    "a = input()\n",
    "\n",
    "if a == \"randomize\":\n",
    "    randomTeam()"
   ]
  },
  {
   "cell_type": "code",
   "execution_count": 13,
   "metadata": {},
   "outputs": [
    {
     "name": "stdout",
     "output_type": "stream",
     "text": [
      "Bailu Silver Wolf\n"
     ]
    }
   ],
   "source": [
    "print(random.choice(characterList), random.choice(characterList))"
   ]
  },
  {
   "cell_type": "code",
   "execution_count": 14,
   "metadata": {},
   "outputs": [
    {
     "name": "stdout",
     "output_type": "stream",
     "text": [
      "4\n",
      "4\n"
     ]
    }
   ],
   "source": [
    "a = random.randrange(0,10)\n",
    "print(a)\n",
    "print(a)"
   ]
  },
  {
   "cell_type": "code",
   "execution_count": 32,
   "metadata": {},
   "outputs": [
    {
     "ename": "AttributeError",
     "evalue": "'list' object has no attribute 'add'",
     "output_type": "error",
     "traceback": [
      "\u001b[1;31m---------------------------------------------------------------------------\u001b[0m",
      "\u001b[1;31mAttributeError\u001b[0m                            Traceback (most recent call last)",
      "Cell \u001b[1;32mIn[32], line 60\u001b[0m\n\u001b[0;32m     10\u001b[0m   \u001b[38;5;28;01mreturn\u001b[39;00m party\n\u001b[0;32m     12\u001b[0m characterList \u001b[38;5;241m=\u001b[39m [\u001b[38;5;124m\"\u001b[39m\u001b[38;5;124mFeixiao\u001b[39m\u001b[38;5;124m\"\u001b[39m,\n\u001b[0;32m     13\u001b[0m                  \u001b[38;5;124m\"\u001b[39m\u001b[38;5;124mTopaz\u001b[39m\u001b[38;5;124m\"\u001b[39m,\n\u001b[0;32m     14\u001b[0m                  \u001b[38;5;124m\"\u001b[39m\u001b[38;5;124mRuan Mei\u001b[39m\u001b[38;5;124m\"\u001b[39m,\n\u001b[1;32m   (...)\u001b[0m\n\u001b[0;32m     57\u001b[0m                  \u001b[38;5;124m\"\u001b[39m\u001b[38;5;124mMisha\u001b[39m\u001b[38;5;124m\"\u001b[39m,\n\u001b[0;32m     58\u001b[0m                  \u001b[38;5;124m\"\u001b[39m\u001b[38;5;124mYanqing\u001b[39m\u001b[38;5;124m\"\u001b[39m]\n\u001b[1;32m---> 60\u001b[0m \u001b[38;5;28mprint\u001b[39m(\u001b[38;5;124mf\u001b[39m\u001b[38;5;124m'\u001b[39m\u001b[38;5;124mTeam: \u001b[39m\u001b[38;5;132;01m{\u001b[39;00m\u001b[43mrandomParty\u001b[49m\u001b[43m(\u001b[49m\u001b[43mcharacterList\u001b[49m\u001b[43m)\u001b[49m\u001b[38;5;132;01m}\u001b[39;00m\u001b[38;5;124m'\u001b[39m)\n",
      "Cell \u001b[1;32mIn[32], line 9\u001b[0m, in \u001b[0;36mrandomParty\u001b[1;34m(characterList)\u001b[0m\n\u001b[0;32m      7\u001b[0m   selection \u001b[38;5;241m=\u001b[39m random\u001b[38;5;241m.\u001b[39mchoice(characterList)\n\u001b[0;32m      8\u001b[0m   listCopy\u001b[38;5;241m.\u001b[39mremove(selection)\n\u001b[1;32m----> 9\u001b[0m   \u001b[43mparty\u001b[49m\u001b[38;5;241;43m.\u001b[39;49m\u001b[43madd\u001b[49m(selection)\n\u001b[0;32m     10\u001b[0m \u001b[38;5;28;01mreturn\u001b[39;00m party\n",
      "\u001b[1;31mAttributeError\u001b[0m: 'list' object has no attribute 'add'"
     ]
    }
   ],
   "source": [
    "import random\n",
    "\n",
    "def randomParty(characterList):\n",
    "  listCopy = characterList.copy()\n",
    "  party = []\n",
    "  for i in range(4):\n",
    "    selection = random.choice(characterList)\n",
    "    listCopy.remove(selection)\n",
    "    party.add(selection)\n",
    "  return party\n",
    "\n",
    "characterList = [\"Feixiao\",\n",
    "                 \"Topaz\",\n",
    "                 \"Ruan Mei\",\n",
    "                 \"Lingsha\",\n",
    "                 \"Robin\",\n",
    "                 \"Yunli\",\n",
    "                 \"Firefly\",\n",
    "                 \"Himeko\",\n",
    "                 \"Acheron\",\n",
    "                 \"Huohuo\",\n",
    "                 \"Bronya\",\n",
    "                 \"Sparkle\",\n",
    "                 \"Fu Xuan\",\n",
    "                 \"Seele\",\n",
    "                 \"Silver Wolf\",\n",
    "                 \"Stelle (Destruction)\",\n",
    "                 \"Stelle (Preservation)\",\n",
    "                 \"Stelle ( Harmony)\",\n",
    "                 \"Guinaifen\",\n",
    "                 \"Herta\",\n",
    "                 \"Xueyi\",\n",
    "                 \"Qingque\",\n",
    "                 \"March 7th (Preservation)\",\n",
    "                 \"March 7th (Hunt)\",\n",
    "                 \"Clara\",\n",
    "                 \"Jingliu\",\n",
    "                 \"Hanya\",\n",
    "                 \"Asta\",\n",
    "                 \"Pela\",\n",
    "                 \"Tingyun\",\n",
    "                 \"Lynx\",\n",
    "                 \"Sushang\",\n",
    "                 \"Bailu\",\n",
    "                 \"Natasha\",\n",
    "                 \"Gepard\",\n",
    "                 \"Welt\",\n",
    "                 \"Yukong\",\n",
    "                 \"Luka\",\n",
    "                 \"Hook\",\n",
    "                 \"Serval\",\n",
    "                 \"Arlan\",\n",
    "                 \"Sampo\",\n",
    "                 \"Dan Heng\",\n",
    "                 \"Dr. Ratio\",\n",
    "                 \"Gallagher\",\n",
    "                 \"Misha\",\n",
    "                 \"Yanqing\"]\n",
    "\n",
    "print(f'Team: {randomParty(characterList)}')"
   ]
  },
  {
   "cell_type": "code",
   "execution_count": 35,
   "metadata": {},
   "outputs": [
    {
     "name": "stdout",
     "output_type": "stream",
     "text": [
      "Feixiao: a Wind Hunt character\n"
     ]
    }
   ],
   "source": [
    "# layout the structure of character info - a \"blueprint\" of sorts, if you will\n",
    "class Character:\n",
    "  info = {}\n",
    "  # the __init__ function defines how an object from this class is to be constructed\n",
    "  def __init__(self, name, path, element):\n",
    "    self.info['name'] = name\n",
    "    self.info['path'] = path\n",
    "    self.info['element'] = elemSent\n",
    "  # defines how the info contained in an object of this class is to be displayed via the print function\n",
    "  def print(self):\n",
    "    print(f'{self.info['name']}: a {self.info['element']} {self.info['path']} character')\n",
    "\n",
    "#initiallizing a character list\n",
    "characters = []\n",
    "\n",
    "# making a new character using the above blueprint\n",
    "Feixiao = Character('Feixiao', 'Hunt', 'Wind')\n",
    "\n",
    "# printing Feixiao\n",
    "Feixiao.print()\n",
    "\n",
    "# adding Feixiao to character list\n",
    "characters.append(Feixiao)"
   ]
  },
  {
   "cell_type": "code",
   "execution_count": null,
   "metadata": {},
   "outputs": [],
   "source": [
    "class Character"
   ]
  }
 ],
 "metadata": {
  "kernelspec": {
   "display_name": "Python 3",
   "language": "python",
   "name": "python3"
  },
  "language_info": {
   "codemirror_mode": {
    "name": "ipython",
    "version": 3
   },
   "file_extension": ".py",
   "mimetype": "text/x-python",
   "name": "python",
   "nbconvert_exporter": "python",
   "pygments_lexer": "ipython3",
   "version": "3.12.7"
  }
 },
 "nbformat": 4,
 "nbformat_minor": 2
}
