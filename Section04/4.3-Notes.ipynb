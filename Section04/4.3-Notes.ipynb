{
 "cells": [
  {
   "cell_type": "code",
   "execution_count": 1,
   "metadata": {},
   "outputs": [],
   "source": [
    "import numpy as np\n",
    "import time, sys"
   ]
  },
  {
   "cell_type": "code",
   "execution_count": 8,
   "metadata": {},
   "outputs": [
    {
     "name": "stdout",
     "output_type": "stream",
     "text": [
      "[[ 0  1  2]\n",
      " [ 3  4  5]\n",
      " [ 6  7  8]\n",
      " [ 9 10 11]]\n"
     ]
    }
   ],
   "source": [
    "x = np.arange(12).reshape((4, 3))\n",
    "print(x)"
   ]
  },
  {
   "cell_type": "code",
   "execution_count": 49,
   "metadata": {},
   "outputs": [
    {
     "name": "stdout",
     "output_type": "stream",
     "text": [
      "[1 2 3 4 5]\n",
      "1\n",
      "[[[[1 2 3]]]\n",
      "\n",
      "\n",
      " [[[1 2 3]]]\n",
      "\n",
      "\n",
      " [[[1 2 3]]]\n",
      "\n",
      "\n",
      " [[[1 2 3]]]\n",
      "\n",
      "\n",
      " [[[1 2 3]]]\n",
      "\n",
      "\n",
      " [[[1 2 3]]]]\n",
      "4\n"
     ]
    }
   ],
   "source": [
    "import numpy as np\n",
    "\n",
    "x = np.array([1, 2, 3, 4, 5])\n",
    "\n",
    "print(x)\n",
    "print(x.ndim)\n",
    "\n",
    "x = np.array([[[[1, 2, 3]]], [[[1, 2, 3]]], [[[1, 2, 3]]], [[[1, 2, 3]]], [[[1, 2, 3]]], [[[1, 2, 3]]]])\n",
    "print(x)\n",
    "print(x.ndim)\n"
   ]
  },
  {
   "cell_type": "code",
   "execution_count": 42,
   "metadata": {},
   "outputs": [
    {
     "name": "stdout",
     "output_type": "stream",
     "text": [
      "e = [0 1 2 3 4]\n"
     ]
    }
   ],
   "source": [
    "e = np.arange(5)\n",
    "print(e)"
   ]
  },
  {
   "cell_type": "code",
   "execution_count": 50,
   "metadata": {},
   "outputs": [
    {
     "name": "stdout",
     "output_type": "stream",
     "text": [
      "False\n",
      "True\n"
     ]
    },
    {
     "ename": "AttributeError",
     "evalue": "'stuff2' object has no attribute 'n'",
     "output_type": "error",
     "traceback": [
      "\u001b[1;31m---------------------------------------------------------------------------\u001b[0m",
      "\u001b[1;31mAttributeError\u001b[0m                            Traceback (most recent call last)",
      "Cell \u001b[1;32mIn[50], line 36\u001b[0m\n\u001b[0;32m     33\u001b[0m t \u001b[38;5;241m=\u001b[39m stuff2(\u001b[38;5;241m2\u001b[39m, \u001b[38;5;241m4\u001b[39m)\n\u001b[0;32m     35\u001b[0m \u001b[38;5;66;03m# now are these objects considered equal?\u001b[39;00m\n\u001b[1;32m---> 36\u001b[0m \u001b[38;5;28mprint\u001b[39m(\u001b[43ms\u001b[49m\u001b[43m \u001b[49m\u001b[38;5;241;43m==\u001b[39;49m\u001b[43m \u001b[49m\u001b[43mt\u001b[49m)\n",
      "Cell \u001b[1;32mIn[50], line 29\u001b[0m, in \u001b[0;36mstuff2.__eq__\u001b[1;34m(self, other)\u001b[0m\n\u001b[0;32m     27\u001b[0m \u001b[38;5;28;01mdef\u001b[39;00m \u001b[38;5;21m__eq__\u001b[39m(\u001b[38;5;28mself\u001b[39m, other):\n\u001b[0;32m     28\u001b[0m   \u001b[38;5;28;01mif\u001b[39;00m other:\n\u001b[1;32m---> 29\u001b[0m     \u001b[38;5;28;01mreturn\u001b[39;00m \u001b[38;5;28;43mself\u001b[39;49m\u001b[38;5;241;43m.\u001b[39;49m\u001b[43mn\u001b[49m \u001b[38;5;241m==\u001b[39m other\u001b[38;5;241m.\u001b[39mn \u001b[38;5;129;01mand\u001b[39;00m \u001b[38;5;28mself\u001b[39m\u001b[38;5;241m.\u001b[39mm \u001b[38;5;241m==\u001b[39m other\u001b[38;5;241m.\u001b[39mm\n",
      "\u001b[1;31mAttributeError\u001b[0m: 'stuff2' object has no attribute 'n'"
     ]
    }
   ],
   "source": [
    "class stuff:\n",
    "  # a simple class for simple comparisons\n",
    "  def __init__(self, num1, num2):\n",
    "    n = num1\n",
    "    m = num2\n",
    "\n",
    "# constructing two different objects with the same data\n",
    "s = stuff(2, 4)\n",
    "t = stuff(2, 4)\n",
    "\n",
    "# seeing if these objects are equal\n",
    "print(s == t)\n",
    "\n",
    "# how about if we set a new variable to s?\n",
    "x = s\n",
    "print(s == x)\n",
    "\n",
    "# this peculiarity is caused by the default equivalence method (which is secretly being called by using \"==\") checking to see if the object references in the variables is the same\n",
    "\n",
    "# you can override this within the class definition by overwriting the __eq__ method\n",
    "class stuff2:\n",
    "  # same class as before, but with a tweak\n",
    "  def __init__(self, num1, num2):\n",
    "    n = num1\n",
    "    m = num2\n",
    "  # overwriting the equivalence method to compare this object's stored values to the other's\n",
    "  def __eq__(self, other):\n",
    "    if other:\n",
    "      return self.n == other.n and self.m == other.m\n",
    "\n",
    "# constructing two different objects with the same data\n",
    "s = stuff2(2, 4)\n",
    "t = stuff2(2, 4)\n",
    "\n",
    "# now are these objects considered equal?\n",
    "print(s == t)"
   ]
  }
 ],
 "metadata": {
  "kernelspec": {
   "display_name": "Python 3",
   "language": "python",
   "name": "python3"
  },
  "language_info": {
   "codemirror_mode": {
    "name": "ipython",
    "version": 3
   },
   "file_extension": ".py",
   "mimetype": "text/x-python",
   "name": "python",
   "nbconvert_exporter": "python",
   "pygments_lexer": "ipython3",
   "version": "3.12.7"
  }
 },
 "nbformat": 4,
 "nbformat_minor": 2
}
